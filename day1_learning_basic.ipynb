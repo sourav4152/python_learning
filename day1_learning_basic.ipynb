{
  "nbformat": 4,
  "nbformat_minor": 0,
  "metadata": {
    "colab": {
      "provenance": [],
      "authorship_tag": "ABX9TyOmR0X93bnG6dkwLx9E/IYe",
      "include_colab_link": true
    },
    "kernelspec": {
      "name": "python3",
      "display_name": "Python 3"
    },
    "language_info": {
      "name": "python"
    }
  },
  "cells": [
    {
      "cell_type": "markdown",
      "metadata": {
        "id": "view-in-github",
        "colab_type": "text"
      },
      "source": [
        "<a href=\"https://colab.research.google.com/github/sourav4152/python_learning/blob/main/day1_learning_basic.ipynb\" target=\"_parent\"><img src=\"https://colab.research.google.com/assets/colab-badge.svg\" alt=\"Open In Colab\"/></a>"
      ]
    },
    {
      "cell_type": "code",
      "source": [
        "age= 23\n",
        "title= \"Gupta\"\n",
        "print(\"My age:\" ,type(age))"
      ],
      "metadata": {
        "colab": {
          "base_uri": "https://localhost:8080/"
        },
        "id": "kC9PZjFsijl-",
        "outputId": "480d571d-8132-4637-dd72-085acbd1efa0"
      },
      "execution_count": null,
      "outputs": [
        {
          "output_type": "stream",
          "name": "stdout",
          "text": [
            "My age: <class 'int'>\n"
          ]
        }
      ]
    },
    {
      "cell_type": "code",
      "source": [
        "age=\"Sourav Kumar\"\n",
        "print(\"Title:\", title)\n",
        "print(type(age))"
      ],
      "metadata": {
        "colab": {
          "base_uri": "https://localhost:8080/"
        },
        "id": "k0oB3zafjxpH",
        "outputId": "991ae54d-6c4b-46f1-9fa5-8d3d0e9628b9"
      },
      "execution_count": null,
      "outputs": [
        {
          "output_type": "stream",
          "name": "stdout",
          "text": [
            "Title: Gupta\n",
            "<class 'str'>\n"
          ]
        }
      ]
    },
    {
      "cell_type": "code",
      "source": [
        "name=\"Sourav Kumar\"\n",
        "message='I am Msc 2nd year student'\n",
        "collage=\"\"\"NIT Hamirpur\n",
        "Himachal Perdesh\"\"\"\n",
        "print(\"multi_line data type:\",type( collage), type(message), type(name))\n",
        "print(\"My Data:\",name, message, collage, sep='\\n')"
      ],
      "metadata": {
        "colab": {
          "base_uri": "https://localhost:8080/"
        },
        "id": "JIgGqJGFlen0",
        "outputId": "9279845f-519e-4ead-8ab8-0d396962a9e5"
      },
      "execution_count": null,
      "outputs": [
        {
          "output_type": "stream",
          "name": "stdout",
          "text": [
            "multi_line data type: <class 'str'> <class 'str'> <class 'str'>\n",
            "My Data:\n",
            "Sourav Kumar\n",
            "I am Msc 2nd year student\n",
            "NIT Hamirpur\n",
            "Himachal Perdesh\n"
          ]
        }
      ]
    },
    {
      "cell_type": "code",
      "source": [
        "#Basic Arithmetic operation\n",
        "print(10/3)\n",
        "print(10//3)\n",
        "print(10**2)\n",
        "print(10%3)"
      ],
      "metadata": {
        "colab": {
          "base_uri": "https://localhost:8080/"
        },
        "id": "OCbp1w3yoGEq",
        "outputId": "21bee01e-36a7-46b4-d29b-5b7a033fdb65"
      },
      "execution_count": null,
      "outputs": [
        {
          "output_type": "stream",
          "name": "stdout",
          "text": [
            "3.3333333333333335\n",
            "3\n",
            "100\n",
            "1\n"
          ]
        }
      ]
    },
    {
      "cell_type": "code",
      "source": [
        "#logic of or and not\n",
        "x = 0\n",
        "y = 1\n",
        "print(x < y and x > 0)\n",
        "print(not x)\n",
        "print((x and y))"
      ],
      "metadata": {
        "colab": {
          "base_uri": "https://localhost:8080/"
        },
        "id": "RgdCh25JpwDm",
        "outputId": "d05a543c-7784-4d0e-b626-b9a015d795db"
      },
      "execution_count": null,
      "outputs": [
        {
          "output_type": "stream",
          "name": "stdout",
          "text": [
            "False\n",
            "True\n",
            "0\n"
          ]
        }
      ]
    },
    {
      "cell_type": "code",
      "source": [
        "score = 85\n",
        "if score >= 90:\n",
        "    grade = \"A\"\n",
        "elif score >= 80:\n",
        "    grade = \"B\"\n",
        "else:\n",
        "    grade = \"C\"\n",
        "print(grade)"
      ],
      "metadata": {
        "colab": {
          "base_uri": "https://localhost:8080/"
        },
        "id": "R6P96iGusLnh",
        "outputId": "a9a13393-d86d-4d37-c9db-337b4f799f4e"
      },
      "execution_count": null,
      "outputs": [
        {
          "output_type": "stream",
          "name": "stdout",
          "text": [
            "B\n"
          ]
        }
      ]
    },
    {
      "cell_type": "code",
      "source": [
        "# loops\n",
        "\n",
        "for i in range(5):\n",
        "    print(i);\n",
        "\n",
        "# for i in range(1,5):\n",
        "#     print(i)\n",
        "\n",
        "print(\"iterate over list:\")\n",
        "names=[\"Sourav\", \"Ritesh\", \"Anik\", \"Akki\",\"Rajat\"]\n",
        "for name in names:\n",
        "    print(name)\n",
        "\n",
        "print(\"iteration with index:\")\n",
        "for index, name in enumerate(names):\n",
        "    print(f\"Index {index}:{name}\") # f\".....\" use for formatting\n"
      ],
      "metadata": {
        "colab": {
          "base_uri": "https://localhost:8080/"
        },
        "id": "CK51DQVT6zs3",
        "outputId": "f3e4e229-9cee-42d8-8118-ebc43ca5ee35"
      },
      "execution_count": null,
      "outputs": [
        {
          "output_type": "stream",
          "name": "stdout",
          "text": [
            "0\n",
            "1\n",
            "2\n",
            "3\n",
            "4\n",
            "iterate over list:\n",
            "Sourav\n",
            "Ritesh\n",
            "Anik\n",
            "Akki\n",
            "Rajat\n",
            "iteration with index:\n",
            "Index 0:Sourav\n",
            "Index 1:Ritesh\n",
            "Index 2:Anik\n",
            "Index 3:Akki\n",
            "Index 4:Rajat\n"
          ]
        }
      ]
    }
  ]
}